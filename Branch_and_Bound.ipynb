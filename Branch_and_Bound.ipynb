{
  "nbformat": 4,
  "nbformat_minor": 0,
  "metadata": {
    "colab": {
      "provenance": []
    },
    "kernelspec": {
      "name": "python3",
      "display_name": "Python 3"
    },
    "language_info": {
      "name": "python"
    }
  },
  "cells": [
    {
      "cell_type": "code",
      "execution_count": null,
      "metadata": {
        "id": "NQxnPeSdrO3h"
      },
      "outputs": [],
      "source": [
        "# import libraries\n",
        "import numpy as np\n",
        "from matplotlib import pyplot as plt"
      ]
    },
    {
      "cell_type": "code",
      "source": [
        "#array for alpha and beta values\n",
        "list1 = [104,128,135,139,150,153,162,168,195,198]\n",
        "list2 = [9,8,7,7,6,6,5,2,1,1]\n",
        "alpha = np.array(list1)\n",
        "beta = np.array(list2)\n",
        "k= 68644\n",
        "R = np.sqrt(k)\n",
        "#print(alpha)\n",
        "#print(beta)\n",
        "#print(R)"
      ],
      "metadata": {
        "id": "thQmkO6MrX_z"
      },
      "execution_count": null,
      "outputs": []
    },
    {
      "cell_type": "code",
      "source": [
        "# calculate value of summation of square root of alpha square by beta for all the values \n",
        "sum = 0\n",
        "values = []\n",
        "\n",
        "for i in range(len(alpha)):\n",
        "    sum = sum + ((alpha[i]*alpha[i]) / beta[i])\n",
        "    mat = alpha[i] / beta[i]\n",
        "    values.append(mat)\n",
        "arr = np.array(values)\n",
        "summation = np.sqrt(sum)\n",
        "#print(summation)\n",
        "print(arr)  "
      ],
      "metadata": {
        "colab": {
          "base_uri": "https://localhost:8080/"
        },
        "id": "kR3L5vpJuMKZ",
        "outputId": "3acd15d7-8130-4036-8f38-186c62c08468"
      },
      "execution_count": null,
      "outputs": [
        {
          "output_type": "stream",
          "name": "stdout",
          "text": [
            "[ 11.55555556  16.          19.28571429  19.85714286  25.\n",
            "  25.5         32.4         84.         195.         198.        ]\n"
          ]
        }
      ]
    },
    {
      "cell_type": "code",
      "source": [
        "#Calculate values for m, Qm, xstar, based on sum calculated above\n",
        "def Calculate_values(alpha,beta,k):\n",
        "  alpha= np.array([alpha[alpha!= 0]]).T\n",
        "  beta= np.array([beta[beta!= 0]]).T\n",
        "  sum = 0\n",
        "  values = []\n",
        "\n",
        "  for i in range(len(alpha)):\n",
        "    sum = sum + ((alpha[i]*alpha[i]) / beta[i])\n",
        "    mat = alpha[i] / beta[i]\n",
        "    values.append(mat)\n",
        "    \n",
        "  arr = np.array(values)\n",
        "  summation = np.sqrt(sum)\n",
        "    #print(summation)\n",
        "    #print(arr)  \n",
        "  R = np.sqrt(k)\n",
        "\n",
        "  #calculate mstar\n",
        "  mstar = (summation/(2*R))\n",
        "  #print(mstar)\n",
        "\n",
        "  #calculate Qm\n",
        "  Qm = R * summation\n",
        "  #print(Qm)\n",
        "\n",
        "  #calculate xstar\n",
        "  T1 = R/summation\n",
        "  xstar = (T1 * arr)\n",
        "  #print(xstar)\n",
        "\n",
        "  fx = (xstar.T) @ alpha\n",
        "  return mstar, Qm, xstar, fx\n"
      ],
      "metadata": {
        "id": "ZuF5q0nUtO-M"
      },
      "execution_count": null,
      "outputs": []
    },
    {
      "cell_type": "code",
      "source": [
        "mstar, Qm, xstar, fx = Calculate_values(alpha,beta,k)\n",
        "#calculate lowerbound\n",
        "xs = np.floor(xstar)\n",
        "#print(xs)\n",
        "xtranspose = np.transpose(xs)\n",
        "print(xtranspose)\n",
        "lowerbound = xtranspose @ alpha\n",
        "print(lowerbound)"
      ],
      "metadata": {
        "colab": {
          "base_uri": "https://localhost:8080/"
        },
        "id": "29DCHulA_smc",
        "outputId": "a184ca39-f10a-4b9e-e6f5-26f4fc0fb74c"
      },
      "execution_count": null,
      "outputs": [
        {
          "output_type": "stream",
          "name": "stdout",
          "text": [
            "[[  9.  12.  15.  15.  19.  19.  25.  65. 152. 154.]]\n",
            "[87441.]\n"
          ]
        }
      ]
    },
    {
      "cell_type": "code",
      "source": [
        "#creating a list of maximum values for x1,x2,x3,x4,x5,x6,x7,x8,x9,x10\n",
        "max = [] \n",
        "for i in range(len(beta)):\n",
        "  maximumvalue = np.floor(np.sqrt((k/beta[i])))\n",
        "  max.append(maximumvalue)\n",
        "#print(max)\n",
        "max = list(map(int, max))\n",
        "print(max)"
      ],
      "metadata": {
        "colab": {
          "base_uri": "https://localhost:8080/"
        },
        "id": "fu0mjlFP64Uk",
        "outputId": "ec7e64ad-c9c9-4df0-ebfd-bc6420eb378f"
      },
      "execution_count": null,
      "outputs": [
        {
          "output_type": "stream",
          "name": "stdout",
          "text": [
            "[87, 92, 99, 99, 106, 106, 117, 185, 262, 262]\n"
          ]
        }
      ]
    },
    {
      "cell_type": "code",
      "source": [
        "#define fx that shrinks\n",
        "def functionx(assign):\n",
        "  Beta = beta.copy()\n",
        "  Alpha = alpha.copy()\n",
        "  newk = k\n",
        "  Term1 = 0\n",
        "  for i in range(len(assign)):\n",
        "    if(assign[i]!=0):\n",
        "      Beta[i] = 0\n",
        "      Alpha[i] = 0\n",
        "      newk = newk - (beta[i]*assign[i]*assign[i])\n",
        "      Term1 = Term1 + (alpha[i]*assign[i])\n",
        "  fx = Calculate_values(Alpha,Beta,newk)[3]\n",
        "  fx = fx + Term1\n",
        "  return fx"
      ],
      "metadata": {
        "id": "GYZmwZF7ADri"
      },
      "execution_count": null,
      "outputs": []
    },
    {
      "cell_type": "code",
      "source": [
        "optimalvaluesofx = [[] for i in range(10)]\n",
        "# Function to find optimal values of x1....x10 that satisfies the constraints \n",
        "def OptimalValueX():\n",
        "  for i in range(10):\n",
        "      Beta = beta\n",
        "      Alpha = alpha\n",
        "      Alpha = np.delete(alpha,i)\n",
        "      Beta= np.delete(beta,i)\n",
        "      for j in range(1,max[i]+1):\n",
        "        newk = k - (beta[i]*j*j)\n",
        "        #print(newk)\n",
        "        if (newk!= 0):\n",
        "          mstarnew,qmnew,xnew,fx= Calculate_values(Alpha,Beta,newk)\n",
        "        if ((qmnew + alpha[i]*j) > lowerbound):\n",
        "          optimalvaluesofx[i].append(j)\n",
        "        elif ((qmnew + alpha[i]*j) <= lowerbound) and len(optimalvaluesofx[i])>5:\n",
        "          break\n",
        "OptimalValueX()\n",
        "print(optimalvaluesofx)"
      ],
      "metadata": {
        "colab": {
          "base_uri": "https://localhost:8080/"
        },
        "id": "gcH4GqvJ8ERi",
        "outputId": "474fddc0-ca90-48c4-a4f6-bc9cc3cc9589"
      },
      "execution_count": null,
      "outputs": [
        {
          "output_type": "stream",
          "name": "stdout",
          "text": [
            "[[1, 2, 3, 4, 5, 6, 7, 8, 9, 10, 11, 12, 13, 14, 15, 16, 17, 18], [2, 3, 4, 5, 6, 7, 8, 9, 10, 11, 12, 13, 14, 15, 16, 17, 18, 19, 20, 21, 22], [4, 5, 6, 7, 8, 9, 10, 11, 12, 13, 14, 15, 16, 17, 18, 19, 20, 21, 22, 23, 24, 25, 26], [5, 6, 7, 8, 9, 10, 11, 12, 13, 14, 15, 16, 17, 18, 19, 20, 21, 22, 23, 24, 25, 26], [8, 9, 10, 11, 12, 13, 14, 15, 16, 17, 18, 19, 20, 21, 22, 23, 24, 25, 26, 27, 28, 29, 30, 31], [8, 9, 10, 11, 12, 13, 14, 15, 16, 17, 18, 19, 20, 21, 22, 23, 24, 25, 26, 27, 28, 29, 30, 31], [13, 14, 15, 16, 17, 18, 19, 20, 21, 22, 23, 24, 25, 26, 27, 28, 29, 30, 31, 32, 33, 34, 35, 36, 37, 38], [46, 47, 48, 49, 50, 51, 52, 53, 54, 55, 56, 57, 58, 59, 60, 61, 62, 63, 64, 65, 66, 67, 68, 69, 70, 71, 72, 73, 74, 75, 76, 77, 78, 79, 80, 81, 82, 83, 84], [127, 128, 129, 130, 131, 132, 133, 134, 135, 136, 137, 138, 139, 140, 141, 142, 143, 144, 145, 146, 147, 148, 149, 150, 151, 152, 153, 154, 155, 156, 157, 158, 159, 160, 161, 162, 163, 164, 165, 166, 167, 168, 169, 170, 171, 172, 173, 174, 175], [130, 131, 132, 133, 134, 135, 136, 137, 138, 139, 140, 141, 142, 143, 144, 145, 146, 147, 148, 149, 150, 151, 152, 153, 154, 155, 156, 157, 158, 159, 160, 161, 162, 163, 164, 165, 166, 167, 168, 169, 170, 171, 172, 173, 174, 175, 176, 177]]\n"
          ]
        }
      ]
    },
    {
      "cell_type": "code",
      "source": [
        "# assign values to global variable\n",
        "lowerbound1 = lowerbound\n",
        "#print(lowerbound1)\n",
        "count = 0\n",
        "optimalassign = np.zeros((10,1))\n",
        "assignments = np.zeros((10,1))"
      ],
      "metadata": {
        "id": "cG3xzAFxGtzT"
      },
      "execution_count": null,
      "outputs": []
    },
    {
      "cell_type": "code",
      "source": [
        "#find the no of assignments \n",
        "def TreeTraversal(assignments,index):\n",
        "  global lowerbound1\n",
        "  global optimalassign\n",
        "  global count\n",
        "  #print(assignments, index,\"\\n\")\n",
        "  for i in range(len(optimalvaluesofx[index])):\n",
        "    assign = assignments.copy()\n",
        "    assign[index] = optimalvaluesofx[index][i]\n",
        "    #print(assign)\n",
        "    if index < 9:\n",
        "      fx = functionx(assign)\n",
        "      if(fx < lowerbound1):\n",
        "        continue\n",
        "      else:\n",
        "        TreeTraversal(assign,index+1)\n",
        "    else:\n",
        "      count = count + 1\n",
        "      fx1 = assign.T @ alpha\n",
        "      s = 0\n",
        "      for i in range(len(assign)):\n",
        "        s = s + (beta[i]*assign[i]*assign[i])\n",
        "      if((fx1<lowerbound1) or s>k):\n",
        "        continue\n",
        "      else:\n",
        "        lowerbound1 = fx1\n",
        "        optimalassign = assign.copy()\n",
        "\n",
        "for i in range(10):\n",
        "  optimalvaluesofx[i].sort(key = lambda b: abs(xtranspose[0][i] - b))\n",
        "\n",
        "print(optimalvaluesofx)\n",
        "\n",
        "TreeTraversal(assignments,0)\n",
        "print(count)\n",
        "print(lowerbound1)\n",
        "print(optimalassign) \n",
        "\n"
      ],
      "metadata": {
        "id": "yGgseQByj_0E",
        "colab": {
          "base_uri": "https://localhost:8080/"
        },
        "outputId": "d9fc0343-d349-4cdd-8da9-fe6f9d0a259e"
      },
      "execution_count": null,
      "outputs": [
        {
          "output_type": "stream",
          "name": "stdout",
          "text": [
            "[[9, 8, 10, 7, 11, 6, 12, 5, 13, 4, 14, 3, 15, 2, 16, 1, 17, 18], [12, 11, 13, 10, 14, 9, 15, 8, 16, 7, 17, 6, 18, 5, 19, 4, 20, 3, 21, 2, 22], [15, 14, 16, 13, 17, 12, 18, 11, 19, 10, 20, 9, 21, 8, 22, 7, 23, 6, 24, 5, 25, 4, 26], [15, 14, 16, 13, 17, 12, 18, 11, 19, 10, 20, 9, 21, 8, 22, 7, 23, 6, 24, 5, 25, 26], [19, 18, 20, 17, 21, 16, 22, 15, 23, 14, 24, 13, 25, 12, 26, 11, 27, 10, 28, 9, 29, 8, 30, 31], [19, 18, 20, 17, 21, 16, 22, 15, 23, 14, 24, 13, 25, 12, 26, 11, 27, 10, 28, 9, 29, 8, 30, 31], [25, 24, 26, 23, 27, 22, 28, 21, 29, 20, 30, 19, 31, 18, 32, 17, 33, 16, 34, 15, 35, 14, 36, 13, 37, 38], [65, 64, 66, 63, 67, 62, 68, 61, 69, 60, 70, 59, 71, 58, 72, 57, 73, 56, 74, 55, 75, 54, 76, 53, 77, 52, 78, 51, 79, 50, 80, 49, 81, 48, 82, 47, 83, 46, 84], [152, 151, 153, 150, 154, 149, 155, 148, 156, 147, 157, 146, 158, 145, 159, 144, 160, 143, 161, 142, 162, 141, 163, 140, 164, 139, 165, 138, 166, 137, 167, 136, 168, 135, 169, 134, 170, 133, 171, 132, 172, 131, 173, 130, 174, 129, 175, 128, 127], [154, 153, 155, 152, 156, 151, 157, 150, 158, 149, 159, 148, 160, 147, 161, 146, 162, 145, 163, 144, 164, 143, 165, 142, 166, 141, 167, 140, 168, 139, 169, 138, 170, 137, 171, 136, 172, 135, 173, 134, 174, 133, 175, 132, 176, 131, 177, 130]]\n",
            "19536\n",
            "[88011.]\n",
            "[[  9.]\n",
            " [ 13.]\n",
            " [ 15.]\n",
            " [ 16.]\n",
            " [ 20.]\n",
            " [ 20.]\n",
            " [ 25.]\n",
            " [ 65.]\n",
            " [152.]\n",
            " [154.]]\n"
          ]
        }
      ]
    }
  ]
}